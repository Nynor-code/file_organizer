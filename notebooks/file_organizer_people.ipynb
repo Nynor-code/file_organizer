{
 "cells": [
  {
   "cell_type": "markdown",
   "metadata": {},
   "source": [
    "# File organization per people\n",
    "\n",
    "the program identify people faces in a picture and create a link in the correct folder. also update the file properties with the identified category"
   ]
  },
  {
   "cell_type": "code",
   "execution_count": null,
   "metadata": {},
   "outputs": [],
   "source": [
    "# importing necessary libraries\n",
    "import os\n",
    "import shutil\n",
    "import exifread\n",
    "import timm\n",
    "import torch\n",
    "import torchvision.transforms as transforms\n",
    "from PIL import Image\n",
    "from datetime import datetime\n",
    "from collections import defaultdict\n",
    "import subprocess\n",
    "import pyheif"
   ]
  },
  {
   "cell_type": "code",
   "execution_count": null,
   "metadata": {},
   "outputs": [],
   "source": [
    "# Define paths\n",
    "SOURCE_DIR = \"/Volumes/NFP4TBSSD/organized_photos/organized_photos_labled/_train\"\n",
    "DEST_DIR = \"/Volumes/NFP4TBSSD/organized_photos/organized_photos_labeled/_val\""
   ]
  },
  {
   "cell_type": "code",
   "execution_count": null,
   "metadata": {},
   "outputs": [],
   "source": [
    "# Load a pre-trained image classification model (e.g., timm's resnet50)\n",
    "model = timm.create_model(\"resnet50\", pretrained=True)\n",
    "model.eval()\n",
    "\n",
    "# ImageNet labels for class names\n",
    "#LABELS_PATH = \"https://raw.githubusercontent.com/pytorch/hub/master/imagenet_classes.txt\"\n",
    "LABELS_PATH = \"../data/imagenet_classes.txt\"\n",
    "LABELS = [line.strip() for line in open(\"imagenet_classes.txt\")] if os.path.exists(\"imagenet_classes.txt\") else []\n",
    "\n",
    "# Image transformation\n",
    "transform = transforms.Compose([\n",
    "    transforms.Resize((224, 224)),\n",
    "    transforms.ToTensor(),\n",
    "    transforms.Normalize(mean=[0.485, 0.456, 0.406], std=[0.229, 0.224, 0.225]),\n",
    "])"
   ]
  },
  {
   "cell_type": "code",
   "execution_count": null,
   "metadata": {},
   "outputs": [],
   "source": [
    "def get_image_metadata(image_path):\n",
    "    \"\"\"Extract date taken from image metadata\"\"\"\n",
    "    with open(image_path, 'rb') as f:\n",
    "        tags = exifread.process_file(f)\n",
    "    \n",
    "    date_tag = tags.get('EXIF DateTimeOriginal') or tags.get('Image DateTime')\n",
    "    if date_tag:\n",
    "        return datetime.strptime(str(date_tag), \"%Y:%m:%d %H:%M:%S\")\n",
    "    return None"
   ]
  },
  {
   "cell_type": "code",
   "execution_count": null,
   "metadata": {},
   "outputs": [],
   "source": [
    "def get_video_metadata(video_path):\n",
    "    \"\"\"Extract creation date from video metadata using ffmpeg\"\"\"\n",
    "    try:\n",
    "        cmd = [\"ffprobe\", \"-v\", \"error\", \"-select_streams\", \"v:0\", \"-show_entries\", \"format_tags=creation_time\", \"-of\", \"default=noprint_wrappers=1:nokey=1\", video_path]\n",
    "        result = subprocess.run(cmd, stdout=subprocess.PIPE, stderr=subprocess.PIPE, text=True)\n",
    "        if result.stdout:\n",
    "            return datetime.strptime(result.stdout.strip(), \"%Y-%m-%dT%H:%M:%S.%fZ\")\n",
    "    except Exception:\n",
    "        pass\n",
    "    return None"
   ]
  },
  {
   "cell_type": "code",
   "execution_count": null,
   "metadata": {},
   "outputs": [],
   "source": [
    "def classify_image(image_path):\n",
    "    \"\"\"Classify an image and return the top labels.\"\"\"\n",
    "    if not LABELS:\n",
    "        return [\"Unknown\"]\n",
    "    image = Image.open(image_path).convert(\"RGB\")\n",
    "    image = transform(image).unsqueeze(0)\n",
    "    with torch.no_grad():\n",
    "        outputs = model(image)\n",
    "    probabilities = torch.nn.functional.softmax(outputs[0], dim=0)\n",
    "    top5_prob, top5_catid = torch.topk(probabilities, 5)\n",
    "    return [LABELS[catid] for catid in top5_catid]"
   ]
  },
  {
   "cell_type": "code",
   "execution_count": null,
   "metadata": {},
   "outputs": [],
   "source": [
    "def extract_context_from_path(file_path):\n",
    "    \"\"\"Extract context from the directory structure\"\"\"\n",
    "    path_parts = os.path.normpath(file_path).split(os.sep)\n",
    "    context_keywords = [part for part in path_parts if part.lower() not in ['source', 'images', 'videos', 'photos']]\n",
    "    return '_'.join(context_keywords[-2:]) if context_keywords else None"
   ]
  },
  {
   "cell_type": "code",
   "execution_count": null,
   "metadata": {},
   "outputs": [],
   "source": [
    "def convert_heic_to_jpg(heic_path):\n",
    "    \"\"\"Convert HEIC to JPEG and return the new path.\"\"\"\n",
    "    heif_file = pyheif.read(heic_path)\n",
    "    image = Image.frombytes(heif_file.mode, heif_file.size, heif_file.data, \"raw\", heif_file.mode, heif_file.stride)\n",
    "    jpg_path = heic_path.rsplit('.', 1)[0] + \".jpg\"\n",
    "    image.save(jpg_path, \"JPEG\")\n",
    "    return jpg_path"
   ]
  },
  {
   "cell_type": "code",
   "execution_count": null,
   "metadata": {},
   "outputs": [],
   "source": [
    "\n",
    "def organize_files():\n",
    "    \"\"\"Recursively organize files from source to destination by creating symbolic links.\"\"\"\n",
    "    for root, _, files in os.walk(SOURCE_DIR):\n",
    "        for file in files:\n",
    "            file_path = os.path.join(root, file)\n",
    "            file_ext = file.lower().split('.')[-1]\n",
    "            \n",
    "            # Convert HEIC to JPEG\n",
    "            if file_ext == \"heic\":\n",
    "                file_path = convert_heic_to_jpg(file_path)\n",
    "                file_ext = \"jpg\"\n",
    "            \n",
    "            # Get metadata\n",
    "            date_taken = None\n",
    "            event_names = None\n",
    "            if file_ext in ['jpg', 'jpeg', 'png', 'tiff', 'gif']:\n",
    "                date_taken = get_image_metadata(file_path)\n",
    "                event_names = classify_image(file_path) if not date_taken else None\n",
    "            elif file_ext in ['mp4', 'mov', 'avi', 'mkv', 'wmv']:\n",
    "                date_taken = get_video_metadata(file_path)\n",
    "            \n",
    "            # Fallback date if metadata is missing\n",
    "            if not date_taken:\n",
    "                date_taken = datetime.fromtimestamp(os.path.getmtime(file_path))\n",
    "            \n",
    "            # Extract context from the directory structure\n",
    "            context_from_path = extract_context_from_path(file_path)\n",
    "            \n",
    "            # Format destination path\n",
    "            date_str = date_taken.strftime(\"%Y/%m-%d\")\n",
    "            final_event_names = event_names or [context_from_path]\n",
    "            dest_folder = os.path.join(DEST_DIR, date_str + (\"_\" + '_'.join(final_event_names) if final_event_names else \"Others1\"))\n",
    "            os.makedirs(dest_folder, exist_ok=True)\n",
    "            \n",
    "            # Update file metadata with categories\n",
    "            if final_event_names:\n",
    "                update_file_metadata(file_path, final_event_names)\n",
    "            \n",
    "            # Create symbolic link instead of moving file\n",
    "            dest_path = os.path.join(dest_folder, file)\n",
    "            if not os.path.exists(dest_path):\n",
    "                os.symlink(file_path, dest_path)\n",
    "                print(f\"Linked {file_path} -> {dest_path}\")"
   ]
  },
  {
   "cell_type": "code",
   "execution_count": null,
   "metadata": {},
   "outputs": [],
   "source": [
    "#if __name__ == \"__main__\":\n",
    "#    organize_files()"
   ]
  }
 ],
 "metadata": {
  "language_info": {
   "name": "python"
  }
 },
 "nbformat": 4,
 "nbformat_minor": 2
}
