{
 "cells": [
  {
   "cell_type": "code",
   "execution_count": 1,
   "metadata": {},
   "outputs": [],
   "source": [
    "# go on the specific directory picture by pcture and label pictures"
   ]
  },
  {
   "cell_type": "code",
   "execution_count": 2,
   "metadata": {},
   "outputs": [],
   "source": [
    "import os\n",
    "import shutil\n",
    "import json\n",
    "import cv2\n",
    "import pyheif\n",
    "from PIL import Image"
   ]
  },
  {
   "cell_type": "code",
   "execution_count": 3,
   "metadata": {},
   "outputs": [],
   "source": [
    "def load_labels(label_file):\n",
    "    \"\"\"Load existing labels from a JSON file.\"\"\"\n",
    "    if os.path.exists(label_file):\n",
    "        with open(label_file, 'r') as f:\n",
    "            return json.load(f)\n",
    "    return {}"
   ]
  },
  {
   "cell_type": "code",
   "execution_count": 4,
   "metadata": {},
   "outputs": [],
   "source": [
    "def convert_heic_to_jpg(heic_path):\n",
    "    \"\"\"Convert HEIC image to JPG format for processing.\"\"\"\n",
    "    heif_file = pyheif.read(heic_path)\n",
    "    image = Image.frombytes(\n",
    "        heif_file.mode, heif_file.size, heif_file.data,\n",
    "        \"raw\", heif_file.mode, heif_file.stride\n",
    "    )\n",
    "    jpg_path = heic_path.rsplit(\".\", 1)[0] + \".jpg\"\n",
    "    image.save(jpg_path, \"JPEG\")\n",
    "    return jpg_path"
   ]
  },
  {
   "cell_type": "code",
   "execution_count": 5,
   "metadata": {},
   "outputs": [],
   "source": [
    "def save_labels(label_file, labels):\n",
    "    \"\"\"Save labels to a JSON file.\"\"\"\n",
    "    with open(label_file, 'w') as f:\n",
    "        json.dump(labels, f, indent=4)"
   ]
  },
  {
   "cell_type": "code",
   "execution_count": 6,
   "metadata": {},
   "outputs": [],
   "source": [
    "def label_images(source_dir, output_dir, label_file=\"labels.json\"):\n",
    "    \"\"\"Go through images, ask for multiple labels, and store them in labeled directories.\"\"\"\n",
    "    labels = load_labels(label_file)\n",
    "    os.makedirs(output_dir, exist_ok=True)\n",
    "    \n",
    "    for root, _, files in os.walk(source_dir):\n",
    "        for file in files:\n",
    "            file_path = os.path.join(root, file)\n",
    "            \n",
    "            if file.lower().endswith(\".heic\"):\n",
    "                print(f\"Converting HEIC image: {file}\")\n",
    "                file_path = convert_heic_to_jpg(file_path)\n",
    "            \n",
    "            if file_path.lower().endswith((\".jpg\", \".jpeg\", \".png\", \".gif\", \".tiff\")):\n",
    "                if file_path in labels:\n",
    "                    print(f\"Skipping {file} (already labeled as {labels[file_path]})\")\n",
    "                    continue  # Skip to the next file\n",
    "                \n",
    "                if not os.path.exists(file_path):\n",
    "                    print(f\"Error: File not found - {file_path}\")\n",
    "                    continue  # Skip to the next file\n",
    "                \n",
    "                # Show the image\n",
    "                image = cv2.imread(file_path)\n",
    "                \n",
    "                if image is None:\n",
    "                    print(f\"⚠️ Warning: OpenCV could not read {file_path}. Skipping.\")\n",
    "                    continue  # Skip to the next file\n",
    "                \n",
    "                cv2.imshow(\"Labeling\", image)\n",
    "                cv2.waitKey(1)  # Small delay to refresh window\n",
    "                \n",
    "                label_input = input(f\"Enter labels for {file} (comma-separated): \")\n",
    "                labels_list = [label.strip() for label in label_input.split(\",\") if label.strip()]\n",
    "                \n",
    "                if not labels_list:\n",
    "                    print(f\"Skipping {file}\")\n",
    "                    cv2.destroyAllWindows()\n",
    "                    continue\n",
    "                \n",
    "                labels[file_path] = labels_list\n",
    "                \n",
    "                for label in labels_list:\n",
    "                    # Create directory for each label\n",
    "                    label_folder = os.path.join(output_dir, label)\n",
    "                    os.makedirs(label_folder, exist_ok=True)\n",
    "                    \n",
    "                    # Copy the image to the labeled directories\n",
    "                    shutil.copy(file_path, os.path.join(label_folder, os.path.basename(file_path)))\n",
    "                    print(f\"Saved {file} to {label_folder}\")\n",
    "                \n",
    "                # Save labels periodically\n",
    "                save_labels(label_file, labels)\n",
    "                \n",
    "                cv2.destroyAllWindows()\n",
    "    \n",
    "    print(\"Labeling complete!\")\n",
    "    save_labels(label_file, labels)\n"
   ]
  },
  {
   "cell_type": "code",
   "execution_count": null,
   "metadata": {},
   "outputs": [
    {
     "name": "stdout",
     "output_type": "stream",
     "text": [
      "⚠️ Warning: OpenCV could not read /Volumes/NFP4TBSSD/PHOTOS_ORGANIZE/CameraUploads/2021-05-19 18.30.49.jpg. Skipping.\n",
      "Skipping 2017-09-14 08.47.14.jpg\n",
      "Skipping 2017-08-12 16.35.40.jpg\n",
      "Skipping 2018-11-01 13.20.35-1.jpg\n",
      "Skipping 2019-11-23 08.37.31.jpg\n",
      "Skipping 2017-08-09 20.05.53.jpg\n",
      "Skipping 2022-04-07 13.11.40.jpg\n",
      "Skipping 2018-11-11 17.16.00.jpg\n",
      "Skipping 2019-10-12 19.08.40.jpg\n",
      "Skipping 2017-08-09 20.11.26.jpg (already labeled as ['Amelia', 'Nuno'])\n",
      "Skipping 2021-09-22 18.32.52.png\n",
      "Skipping 2017-10-28 18.00.09.jpg (already labeled as ['Gato'])\n",
      "Skipping 2019-11-04 08.44.52-3.jpg\n",
      "Skipping 2024-08-09 10.51.32.jpg (already labeled as ['Amelia'])\n",
      "Converting HEIC image: 2020-09-06 19.15.32.heic\n"
     ]
    },
    {
     "ename": "error",
     "evalue": "struct heif_decoding_options: wrong total size (cdef says 72, but C compiler says 80). fix it or use \"...;\" as the last field in the cdef for struct heif_decoding_options to make it flexible",
     "output_type": "error",
     "traceback": [
      "\u001b[0;31m---------------------------------------------------------------------------\u001b[0m",
      "\u001b[0;31merror\u001b[0m                                     Traceback (most recent call last)",
      "Cell \u001b[0;32mIn[7], line 6\u001b[0m\n\u001b[1;32m      3\u001b[0m OUTPUT_DIR \u001b[38;5;241m=\u001b[39m \u001b[38;5;124m\"\u001b[39m\u001b[38;5;124m/Volumes/NFP4TBSSD/organized_photos/organized_photos_labeled/_val\u001b[39m\u001b[38;5;124m\"\u001b[39m\n\u001b[1;32m      4\u001b[0m LABEL_FILE \u001b[38;5;241m=\u001b[39m \u001b[38;5;124m\"\u001b[39m\u001b[38;5;124m../data/labels.json\u001b[39m\u001b[38;5;124m\"\u001b[39m\n\u001b[0;32m----> 6\u001b[0m \u001b[43mlabel_images\u001b[49m\u001b[43m(\u001b[49m\u001b[43mSOURCE_DIR\u001b[49m\u001b[43m,\u001b[49m\u001b[43m \u001b[49m\u001b[43mOUTPUT_DIR\u001b[49m\u001b[43m,\u001b[49m\u001b[43m \u001b[49m\u001b[43mLABEL_FILE\u001b[49m\u001b[43m)\u001b[49m\n",
      "Cell \u001b[0;32mIn[6], line 12\u001b[0m, in \u001b[0;36mlabel_images\u001b[0;34m(source_dir, output_dir, label_file)\u001b[0m\n\u001b[1;32m     10\u001b[0m \u001b[38;5;28;01mif\u001b[39;00m file\u001b[38;5;241m.\u001b[39mlower()\u001b[38;5;241m.\u001b[39mendswith(\u001b[38;5;124m\"\u001b[39m\u001b[38;5;124m.heic\u001b[39m\u001b[38;5;124m\"\u001b[39m):\n\u001b[1;32m     11\u001b[0m     \u001b[38;5;28mprint\u001b[39m(\u001b[38;5;124mf\u001b[39m\u001b[38;5;124m\"\u001b[39m\u001b[38;5;124mConverting HEIC image: \u001b[39m\u001b[38;5;132;01m{\u001b[39;00mfile\u001b[38;5;132;01m}\u001b[39;00m\u001b[38;5;124m\"\u001b[39m)\n\u001b[0;32m---> 12\u001b[0m     file_path \u001b[38;5;241m=\u001b[39m \u001b[43mconvert_heic_to_jpg\u001b[49m\u001b[43m(\u001b[49m\u001b[43mfile_path\u001b[49m\u001b[43m)\u001b[49m\n\u001b[1;32m     14\u001b[0m \u001b[38;5;28;01mif\u001b[39;00m file_path\u001b[38;5;241m.\u001b[39mlower()\u001b[38;5;241m.\u001b[39mendswith((\u001b[38;5;124m\"\u001b[39m\u001b[38;5;124m.jpg\u001b[39m\u001b[38;5;124m\"\u001b[39m, \u001b[38;5;124m\"\u001b[39m\u001b[38;5;124m.jpeg\u001b[39m\u001b[38;5;124m\"\u001b[39m, \u001b[38;5;124m\"\u001b[39m\u001b[38;5;124m.png\u001b[39m\u001b[38;5;124m\"\u001b[39m, \u001b[38;5;124m\"\u001b[39m\u001b[38;5;124m.gif\u001b[39m\u001b[38;5;124m\"\u001b[39m, \u001b[38;5;124m\"\u001b[39m\u001b[38;5;124m.tiff\u001b[39m\u001b[38;5;124m\"\u001b[39m)):\n\u001b[1;32m     15\u001b[0m     \u001b[38;5;28;01mif\u001b[39;00m file_path \u001b[38;5;129;01min\u001b[39;00m labels:\n",
      "Cell \u001b[0;32mIn[4], line 3\u001b[0m, in \u001b[0;36mconvert_heic_to_jpg\u001b[0;34m(heic_path)\u001b[0m\n\u001b[1;32m      1\u001b[0m \u001b[38;5;28;01mdef\u001b[39;00m \u001b[38;5;21mconvert_heic_to_jpg\u001b[39m(heic_path):\n\u001b[1;32m      2\u001b[0m \u001b[38;5;250m    \u001b[39m\u001b[38;5;124;03m\"\"\"Convert HEIC image to JPG format for processing.\"\"\"\u001b[39;00m\n\u001b[0;32m----> 3\u001b[0m     heif_file \u001b[38;5;241m=\u001b[39m \u001b[43mpyheif\u001b[49m\u001b[38;5;241;43m.\u001b[39;49m\u001b[43mread\u001b[49m\u001b[43m(\u001b[49m\u001b[43mheic_path\u001b[49m\u001b[43m)\u001b[49m\n\u001b[1;32m      4\u001b[0m     image \u001b[38;5;241m=\u001b[39m Image\u001b[38;5;241m.\u001b[39mfrombytes(\n\u001b[1;32m      5\u001b[0m         heif_file\u001b[38;5;241m.\u001b[39mmode, heif_file\u001b[38;5;241m.\u001b[39msize, heif_file\u001b[38;5;241m.\u001b[39mdata,\n\u001b[1;32m      6\u001b[0m         \u001b[38;5;124m\"\u001b[39m\u001b[38;5;124mraw\u001b[39m\u001b[38;5;124m\"\u001b[39m, heif_file\u001b[38;5;241m.\u001b[39mmode, heif_file\u001b[38;5;241m.\u001b[39mstride\n\u001b[1;32m      7\u001b[0m     )\n\u001b[1;32m      8\u001b[0m     jpg_path \u001b[38;5;241m=\u001b[39m heic_path\u001b[38;5;241m.\u001b[39mrsplit(\u001b[38;5;124m\"\u001b[39m\u001b[38;5;124m.\u001b[39m\u001b[38;5;124m\"\u001b[39m, \u001b[38;5;241m1\u001b[39m)[\u001b[38;5;241m0\u001b[39m] \u001b[38;5;241m+\u001b[39m \u001b[38;5;124m\"\u001b[39m\u001b[38;5;124m.jpg\u001b[39m\u001b[38;5;124m\"\u001b[39m\n",
      "File \u001b[0;32m/Library/Frameworks/Python.framework/Versions/3.12/lib/python3.12/site-packages/pyheif/reader.py:113\u001b[0m, in \u001b[0;36mread\u001b[0;34m(fp, apply_transformations, convert_hdr_to_8bit)\u001b[0m\n\u001b[1;32m    107\u001b[0m \u001b[38;5;28;01mdef\u001b[39;00m \u001b[38;5;21mread\u001b[39m(fp, \u001b[38;5;241m*\u001b[39m, apply_transformations\u001b[38;5;241m=\u001b[39m\u001b[38;5;28;01mTrue\u001b[39;00m, convert_hdr_to_8bit\u001b[38;5;241m=\u001b[39m\u001b[38;5;28;01mTrue\u001b[39;00m):\n\u001b[1;32m    108\u001b[0m     heif_file \u001b[38;5;241m=\u001b[39m \u001b[38;5;28mopen\u001b[39m(\n\u001b[1;32m    109\u001b[0m         fp,\n\u001b[1;32m    110\u001b[0m         apply_transformations\u001b[38;5;241m=\u001b[39mapply_transformations,\n\u001b[1;32m    111\u001b[0m         convert_hdr_to_8bit\u001b[38;5;241m=\u001b[39mconvert_hdr_to_8bit,\n\u001b[1;32m    112\u001b[0m     )\n\u001b[0;32m--> 113\u001b[0m     \u001b[38;5;28;01mreturn\u001b[39;00m \u001b[43mheif_file\u001b[49m\u001b[38;5;241;43m.\u001b[39;49m\u001b[43mload\u001b[49m\u001b[43m(\u001b[49m\u001b[43m)\u001b[49m\n",
      "File \u001b[0;32m/Library/Frameworks/Python.framework/Versions/3.12/lib/python3.12/site-packages/pyheif/reader.py:50\u001b[0m, in \u001b[0;36mUndecodedHeifImage.load\u001b[0;34m(self)\u001b[0m\n\u001b[1;32m     49\u001b[0m \u001b[38;5;28;01mdef\u001b[39;00m \u001b[38;5;21mload\u001b[39m(\u001b[38;5;28mself\u001b[39m):\n\u001b[0;32m---> 50\u001b[0m     \u001b[38;5;28mself\u001b[39m\u001b[38;5;241m.\u001b[39mdata, \u001b[38;5;28mself\u001b[39m\u001b[38;5;241m.\u001b[39mstride \u001b[38;5;241m=\u001b[39m \u001b[43m_read_heif_image\u001b[49m\u001b[43m(\u001b[49m\u001b[38;5;28;43mself\u001b[39;49m\u001b[38;5;241;43m.\u001b[39;49m\u001b[43m_heif_handle\u001b[49m\u001b[43m,\u001b[49m\u001b[43m \u001b[49m\u001b[38;5;28;43mself\u001b[39;49m\u001b[43m)\u001b[49m\n\u001b[1;32m     51\u001b[0m     \u001b[38;5;28mself\u001b[39m\u001b[38;5;241m.\u001b[39mclose()\n\u001b[1;32m     52\u001b[0m     \u001b[38;5;28mself\u001b[39m\u001b[38;5;241m.\u001b[39m\u001b[38;5;18m__class__\u001b[39m \u001b[38;5;241m=\u001b[39m HeifImage\n",
      "File \u001b[0;32m/Library/Frameworks/Python.framework/Versions/3.12/lib/python3.12/site-packages/pyheif/reader.py:438\u001b[0m, in \u001b[0;36m_read_heif_image\u001b[0;34m(handle, heif_file)\u001b[0m\n\u001b[1;32m    436\u001b[0m p_options \u001b[38;5;241m=\u001b[39m libheif\u001b[38;5;241m.\u001b[39mheif_decoding_options_alloc()\n\u001b[1;32m    437\u001b[0m p_options \u001b[38;5;241m=\u001b[39m ffi\u001b[38;5;241m.\u001b[39mgc(p_options, libheif\u001b[38;5;241m.\u001b[39mheif_decoding_options_free)\n\u001b[0;32m--> 438\u001b[0m \u001b[43mp_options\u001b[49m\u001b[38;5;241;43m.\u001b[39;49m\u001b[43mignore_transformations\u001b[49m \u001b[38;5;241m=\u001b[39m \u001b[38;5;28mint\u001b[39m(\u001b[38;5;129;01mnot\u001b[39;00m heif_file\u001b[38;5;241m.\u001b[39mapply_transformations)\n\u001b[1;32m    439\u001b[0m p_options\u001b[38;5;241m.\u001b[39mconvert_hdr_to_8bit \u001b[38;5;241m=\u001b[39m \u001b[38;5;28mint\u001b[39m(heif_file\u001b[38;5;241m.\u001b[39mconvert_hdr_to_8bit)\n\u001b[1;32m    441\u001b[0m p_img \u001b[38;5;241m=\u001b[39m ffi\u001b[38;5;241m.\u001b[39mnew(\u001b[38;5;124m\"\u001b[39m\u001b[38;5;124mstruct heif_image **\u001b[39m\u001b[38;5;124m\"\u001b[39m)\n",
      "\u001b[0;31merror\u001b[0m: struct heif_decoding_options: wrong total size (cdef says 72, but C compiler says 80). fix it or use \"...;\" as the last field in the cdef for struct heif_decoding_options to make it flexible"
     ]
    },
    {
     "ename": "",
     "evalue": "",
     "output_type": "error",
     "traceback": [
      "\u001b[1;31mThe Kernel crashed while executing code in the current cell or a previous cell. \n",
      "\u001b[1;31mPlease review the code in the cell(s) to identify a possible cause of the failure. \n",
      "\u001b[1;31mClick <a href='https://aka.ms/vscodeJupyterKernelCrash'>here</a> for more info. \n",
      "\u001b[1;31mView Jupyter <a href='command:jupyter.viewOutput'>log</a> for further details."
     ]
    }
   ],
   "source": [
    "#if __name__ == \"__main__\":\n",
    "SOURCE_DIR = \"/Volumes/NFP4TBSSD/PHOTOS_ORGANIZE/CameraUploads\"\n",
    "OUTPUT_DIR = \"/Volumes/NFP4TBSSD/organized_photos/organized_photos_labeled/_val\"\n",
    "LABEL_FILE = \"../data/labels.json\"\n",
    "    \n",
    "label_images(SOURCE_DIR, OUTPUT_DIR, LABEL_FILE)"
   ]
  }
 ],
 "metadata": {
  "kernelspec": {
   "display_name": "Python 3",
   "language": "python",
   "name": "python3"
  },
  "language_info": {
   "codemirror_mode": {
    "name": "ipython",
    "version": 3
   },
   "file_extension": ".py",
   "mimetype": "text/x-python",
   "name": "python",
   "nbconvert_exporter": "python",
   "pygments_lexer": "ipython3",
   "version": "3.12.0"
  }
 },
 "nbformat": 4,
 "nbformat_minor": 2
}
