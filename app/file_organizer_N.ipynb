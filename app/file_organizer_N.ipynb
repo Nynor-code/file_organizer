{
 "cells": [
  {
   "cell_type": "code",
   "execution_count": null,
   "metadata": {},
   "outputs": [],
   "source": [
    "import os\n",
    "import shutil\n",
    "import exifread\n",
    "import timm\n",
    "import torch\n",
    "import torchvision.transforms as transforms\n",
    "import subprocess\n",
    "\n",
    "from PIL import Image\n",
    "from datetime import datetime\n",
    "from collections import defaultdict\n",
    "#    from mutagen import File\n",
    "\n"
   ]
  },
  {
   "cell_type": "code",
   "execution_count": 2,
   "metadata": {},
   "outputs": [],
   "source": [
    "# Define paths\n",
    "SOURCE_DIR = \"/Volumes/NFP4TBSSD/PHOTOS_ORGANIZE\"\n",
    "DEST_DIR = \"/Volumes/NFP4TBSSD/zz_organized_photos\""
   ]
  },
  {
   "cell_type": "code",
   "execution_count": 3,
   "metadata": {},
   "outputs": [],
   "source": [
    "\n",
    "# Load a pre-trained image classification model (e.g., timm's resnet50)\n",
    "model = timm.create_model(\"resnet50\", pretrained=True)\n",
    "model.eval()\n",
    "\n",
    "# ImageNet labels for class names\n",
    "\n",
    "#TODO: refactor the image labels\n",
    "#LABELS_PATH = \"https://raw.githubusercontent.com/pytorch/hub/master/imagenet_classes.txt\"\n",
    "LABELS_PATH = \"../data/imagenet_classes.txt\"\n",
    "LABELS = [line.strip() for line in open(\"imagenet_classes.txt\")] if os.path.exists(\"imagenet_classes.txt\") else []\n"
   ]
  },
  {
   "cell_type": "code",
   "execution_count": 4,
   "metadata": {},
   "outputs": [],
   "source": [
    "# Image transformation\n",
    "transform = transforms.Compose([\n",
    "    transforms.Resize((224, 224)),\n",
    "    transforms.ToTensor(),\n",
    "    transforms.Normalize(mean=[0.485, 0.456, 0.406], std=[0.229, 0.224, 0.225]),\n",
    "])"
   ]
  },
  {
   "cell_type": "code",
   "execution_count": null,
   "metadata": {},
   "outputs": [],
   "source": [
    "register_heif_opener()  # Enable HEIC support for PIL\n",
    "\n",
    "def get_image_metadata(image_path):\n",
    "    \"\"\"Extract date taken from image metadata\"\"\"\n",
    "    try:\n",
    "        if image_path.lower().endswith(\".heic\"):\n",
    "            image = Image.open(image_path)\n",
    "            exif_data = image.info.get(\"exif\", None)\n",
    "            if exif_data:\n",
    "                return datetime.strptime(exif_data.get(36867), \"%Y:%m:%d %H:%M:%S\")\n",
    "        else:\n",
    "            with open(image_path, 'rb') as f:\n",
    "                tags = exifread.process_file(f)\n",
    "            date_tag = tags.get('EXIF DateTimeOriginal') or tags.get('Image DateTime')\n",
    "            if date_tag:\n",
    "                return datetime.strptime(str(date_tag), \"%Y:%m:%d %H:%M:%S\")\n",
    "    except Exception as e:\n",
    "        print(f\"Error reading metadata for {image_path}: {e}\")\n",
    "    return None"
   ]
  },
  {
   "cell_type": "code",
   "execution_count": 6,
   "metadata": {},
   "outputs": [],
   "source": [
    "def get_video_metadata(video_path):\n",
    "    \"\"\"Extract creation date from video metadata using ffmpeg\"\"\"\n",
    "    try:\n",
    "        cmd = [\"ffprobe\", \"-v\", \"error\", \"-select_streams\", \"v:0\", \"-show_entries\", \"format_tags=creation_time\", \"-of\", \"default=noprint_wrappers=1:nokey=1\", video_path]\n",
    "        result = subprocess.run(cmd, stdout=subprocess.PIPE, stderr=subprocess.PIPE, text=True)\n",
    "        if result.stdout:\n",
    "            return datetime.strptime(result.stdout.strip(), \"%Y-%m-%dT%H:%M:%S.%fZ\")\n",
    "    except Exception:\n",
    "        pass\n",
    "    return None"
   ]
  },
  {
   "cell_type": "code",
   "execution_count": 7,
   "metadata": {},
   "outputs": [],
   "source": [
    "def classify_image(image_path):\n",
    "    \"\"\"Classify an image and return the top label.\"\"\"\n",
    "    if not LABELS:\n",
    "        return \"Unknown\"\n",
    "    image = Image.open(image_path).convert(\"RGB\")\n",
    "    image = transform(image).unsqueeze(0)\n",
    "    with torch.no_grad():\n",
    "        outputs = model(image)\n",
    "    _, predicted = torch.max(outputs, 1)\n",
    "    return LABELS[predicted.item()]"
   ]
  },
  {
   "cell_type": "code",
   "execution_count": null,
   "metadata": {},
   "outputs": [
    {
     "ename": "IndentationError",
     "evalue": "expected an indented block after 'elif' statement on line 19 (1517188722.py, line 20)",
     "output_type": "error",
     "traceback": [
      "\u001b[0;36m  Cell \u001b[0;32mIn[1], line 20\u001b[0;36m\u001b[0m\n\u001b[0;31m    elif file_ext in ['heic']:\u001b[0m\n\u001b[0m    ^\u001b[0m\n\u001b[0;31mIndentationError\u001b[0m\u001b[0;31m:\u001b[0m expected an indented block after 'elif' statement on line 19\n"
     ]
    }
   ],
   "source": [
    "\n",
    "def organize_files():\n",
    "    \"\"\"Recursively organize files from source to destination\"\"\"\n",
    "    for root, _, files in os.walk(SOURCE_DIR):\n",
    "        for file in files:\n",
    "            file_path = os.path.join(root, file)\n",
    "            file_ext = file.lower().split('.')[-1]\n",
    "            \n",
    "            # Get metadata\n",
    "            date_taken = None\n",
    "            event_name = None\n",
    "            if file_ext in ['jpg', 'jpeg', 'png', 'tiff', 'gif', 'bmp', 'webp']:\n",
    "                try:\n",
    "                    date_taken = get_image_metadata(file_path)\n",
    "                except Exception:\n",
    "                    print(f\"Skipping file {file_path}: Unsupported metadata format.\")\n",
    "                    date_taken = None  # Fallback to modification date later\n",
    "                    \n",
    "                event_name = classify_image(file_path) if not date_taken else None\n",
    "            elif file_ext in ['heic', 'heif']:\n",
    "                # For HEIC files, we can use pyheif or similar library to extract metadata...\n",
    "                date_taken = get_image_metadata(file_path)\n",
    "                event_name = classify_image(file_path) if not date_taken else None\n",
    "            #elif file_ext in ['mp3', 'wav', 'flac']:\n",
    "            #    # For audio files, we can use a library like mutagen to extract metadata\n",
    "            #    from mutagen import File\n",
    "            #    audio = File(file_path)\n",
    "            #    date_taken = datetime.fromtimestamp(audio.info.pprint().get('TDRL', None))\n",
    "            elif file_ext in ['mp4', 'mov', 'avi', 'mkv', 'wmv']:\n",
    "                date_taken = get_video_metadata(file_path)\n",
    "            \n",
    "            # Fallback date if metadata is missing\n",
    "            if not date_taken:\n",
    "                date_taken = datetime.fromtimestamp(os.path.getmtime(file_path))\n",
    "            \n",
    "            # Format destination path\n",
    "            date_str = date_taken.strftime(\"%Y/%m-%d\")\n",
    "            dest_folder = os.path.join(DEST_DIR, date_str + (\"_\" + event_name if event_name else \"\"))\n",
    "            os.makedirs(dest_folder, exist_ok=True)\n",
    "            \n",
    "            # Move file\n",
    "            shutil.copy(file_path, os.path.join(dest_folder, file))\n",
    "            print(f\"Copied {file_path} -> {dest_folder}\")"
   ]
  },
  {
   "cell_type": "code",
   "execution_count": null,
   "metadata": {},
   "outputs": [],
   "source": [
    "organize_files()"
   ]
  }
 ],
 "metadata": {
  "kernelspec": {
   "display_name": "Python 3",
   "language": "python",
   "name": "python3"
  },
  "language_info": {
   "codemirror_mode": {
    "name": "ipython",
    "version": 3
   },
   "file_extension": ".py",
   "mimetype": "text/x-python",
   "name": "python",
   "nbconvert_exporter": "python",
   "pygments_lexer": "ipython3",
   "version": "3.13.0"
  }
 },
 "nbformat": 4,
 "nbformat_minor": 2
}
